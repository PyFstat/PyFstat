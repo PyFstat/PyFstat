{
 "cells": [
  {
   "cell_type": "markdown",
   "id": "f92e59af",
   "metadata": {},
   "source": [
    "# Generating  Noise\n",
    "\n",
    "Example on how to generate Gaussian noise under different conditions \n",
    "(non-stationarity, gaps in the data, multiple detectors)\n",
    "as well as including monochromatic instrumental artifacts, also known as [spectral lines](https://www.gw-openscience.org/O3/o3speclines/)."
   ]
  },
  {
   "cell_type": "markdown",
   "id": "8e15a4ed",
   "metadata": {},
   "source": [
    "0. [The SFT format](#the-sft-format)\n",
    "0. [Using pyfstat.Writer](#pyfstat.writer)\n",
    "0. [Non-stationary noise](#non-stationarity)\n",
    "0. [Gaps](#gaps)\n",
    "0. [Narrow instrumental artifacts](#lines)\n",
    "0. [Multiple detectors](#multiifo)"
   ]
  },
  {
   "cell_type": "code",
   "execution_count": null,
   "id": "d1da6704",
   "metadata": {},
   "outputs": [],
   "source": [
    "import numpy as np\n",
    "\n",
    "import pyfstat\n",
    "from pyfstat.helper_functions import get_sft_as_arrays\n",
    "\n",
    "# Local module to simplify plotting\n",
    "import utils\n",
    "\n",
    "logger = pyfstat.set_up_logger(label=\"0_generating_noise\", log_level=\"info\")\n",
    "\n",
    "%matplotlib inline"
   ]
  },
  {
   "cell_type": "markdown",
   "id": "e1f96d1b",
   "metadata": {},
   "source": [
    "## The SFT format <a name=\"the-sft-format\"></a>\n",
    "\n",
    "Continuous gravitational-wave signals (CW for short) are quasi-monochromatic long-standing gravitational waves.\n",
    "Standard models, such as those corresponding to the signal produced by \n",
    "non-axisymmetric rapidly-spinning neutron stars, \n",
    "produce narrow-banded signals which are Doppler-modulated due to the motion of the detector in the Solar system. \n",
    "An accessible and open-access review on the topic can be found [here](https://www.mdpi.com/2218-1997/7/12/474).\n",
    "\n",
    "Due to the precise localization of a signal in a narrow frequency band, \n",
    "Fourier transforms are a suitable tool to analyze this sort of data. \n",
    "These signals, however, are not completely monochromatic, \n",
    "meaning a full-time Fourier transform could risk smearing a signal across a very broad frequency band.\n",
    "Instead, we work using *Short Fourier Transforms* (SFTs), which are Fourier transforms of short data segments\n",
    "(typically around 30 minutes or 1800 seconds). \n",
    "\n",
    "This data format is specific to [LALSuite](https://lscsoft.docs.ligo.org/lalsuite/), \n",
    "but PyFstat provides functions (`pyfstat.helper_functions.get_sft_as_arrays`) to read them\n",
    "as Numpy arrays. The specifications of the SFT data format are freely accessible as a \n",
    "[technical document](https://dcc.ligo.org/LIGO-T040164/public)."
   ]
  },
  {
   "cell_type": "markdown",
   "id": "3662f7de",
   "metadata": {},
   "source": [
    "## Using pyfstat.Writer<a name=\"pyfstat.writer\"></a>\n",
    "\n",
    "The most basic example is to generate Gaussian noise as measured by a single detector.\n",
    "This operation can be performed using `pyfstat.Writer` as follows:"
   ]
  },
  {
   "cell_type": "code",
   "execution_count": null,
   "id": "93a86361",
   "metadata": {},
   "outputs": [],
   "source": [
    "# Setup Writer\n",
    "writer_kwargs = {\n",
    "    \"label\": \"single_detector_gaussian_noise\",\n",
    "    \"outdir\": \"PyFstat_example_data\",\n",
    "    \"tstart\": 1238166018,  # Starting time of the observation [GPS time]\n",
    "    \"duration\": 5 * 86400,  # Duration [seconds]\n",
    "    \"detectors\": \"H1\",  # Detector to simulate, in this case LIGO Hanford\n",
    "    \"F0\": 100.0,  # Central frequency of the band to be generated [Hz]\n",
    "    \"Band\": 1.0,  # Frequency band-width around F0 [Hz]\n",
    "    \"sqrtSX\": 1e-23,  # Single-sided Amplitude Spectral Density of the noise\n",
    "    \"Tsft\": 1800,  # Fourier transform time duration\n",
    "    \"SFTWindowType\": \"tukey\",  # Window function to compute short Fourier transforms\n",
    "    \"SFTWindowBeta\": 0.01,  # Parameter associated to the window function\n",
    "}\n",
    "writer = pyfstat.Writer(**writer_kwargs)\n",
    "\n",
    "# Create SFTs\n",
    "writer.make_data()"
   ]
  },
  {
   "cell_type": "markdown",
   "id": "56590f4d",
   "metadata": {},
   "source": [
    "SFT data is saved at the path specified in `writer.sftfilepath `. This binary format can be opened as Numpy arrays using `pyfstat.helper.get_sft_as_arrays` as follows:"
   ]
  },
  {
   "cell_type": "code",
   "execution_count": null,
   "id": "aebe1468",
   "metadata": {},
   "outputs": [],
   "source": [
    "# Read SFT data into numpy arrays and plot real and imaginary parts\n",
    "frequency, timestamps, fourier_data = get_sft_as_arrays(writer.sftfilepath)"
   ]
  },
  {
   "cell_type": "markdown",
   "id": "594b535d",
   "metadata": {},
   "source": [
    "SFT data could contain different detectors which may be operating during different times.\n",
    "Thus, `timestamps` and `fourier_data` are dictionaries whose keys correspond to detector names (`H1` for LIGO Hanford, `L1` for LIGO Livingston). `timestamps` labels the time at which the data was taken using GPS seconds, while `fourier_data` contains the Fourier amplitude of such data segment. `frequency`, which is common for all the detectors, is a 1D array labeling the frequency bins."
   ]
  },
  {
   "cell_type": "code",
   "execution_count": null,
   "id": "94ed1454",
   "metadata": {},
   "outputs": [],
   "source": [
    "utils.plot_real_imag_spectrograms(timestamps[\"H1\"], frequency, fourier_data[\"H1\"]);"
   ]
  },
  {
   "cell_type": "markdown",
   "id": "8397ef1b",
   "metadata": {},
   "source": [
    "Since we are generating zero-mean white Gaussian noise, \n",
    "there is a simple relation between the single-sided amplitude spectral density `sqrtSX` $\\sqrt{S_{\\text{n}}}$ \n",
    "and the variance of the distribution given by\n",
    "$$\n",
    "\\sigma^2 = \\frac{1}{4} T_{\\text{SFT}} S_{\\text{n}}\n",
    "$$\n",
    "where the two $\\frac{1}{2}$ factors are due to the use of a *single-sided* ASD \n",
    "and the fact that this standard deviation applies to both the real and imaginary parts of the Fourier transform."
   ]
  },
  {
   "cell_type": "code",
   "execution_count": null,
   "id": "0624dc60",
   "metadata": {},
   "outputs": [],
   "source": [
    "theoretical_stdev = np.sqrt(0.25 * writer_kwargs[\"Tsft\"]) * writer_kwargs[\"sqrtSX\"]\n",
    "utils.plot_real_imag_histogram(fourier_data[\"H1\"], theoretical_stdev);"
   ]
  },
  {
   "cell_type": "markdown",
   "id": "6e275813",
   "metadata": {},
   "source": [
    "## Non-stationary noise<a name=\"non-stationarity\"></a>\n",
    "\n",
    "Real data, on the other hand, is hardly ever stationary over long periods of time. \n",
    "This is equivalent to having a time-varying amplitude spectral density `sqrtSX`, \n",
    "which can be easily implemented by running several instances of `pyfstat.Writer`\n",
    "and concatenating the resulting file paths using `;`."
   ]
  },
  {
   "cell_type": "code",
   "execution_count": null,
   "id": "947cac9c",
   "metadata": {},
   "outputs": [],
   "source": [
    "segment_lengths = [5 * 86400, 3 * 86400, 4 * 86400]\n",
    "segment_sqrtSX = [4e-23, 1e-23, 3e-23]\n",
    "\n",
    "sft_path = []\n",
    "\n",
    "# Setup Writer\n",
    "writer_kwargs = {\n",
    "    \"outdir\": \"PyFstat_example_data\",\n",
    "    \"tstart\": 1238166018,\n",
    "    \"detectors\": \"H1\",  # Detector to simulate, in this case LIGO Hanford\n",
    "    \"F0\": 100.0,  # Central frequency of the band to be generated [Hz]\n",
    "    \"Band\": 1.0,  # Frequency band-width around F0 [Hz]\n",
    "    \"sqrtSX\": 1e-23,  # Single-sided Amplitude Spectral Density of the noise\n",
    "    \"Tsft\": 1800,  # Fourier transform time duration\n",
    "    \"SFTWindowType\": \"tukey\",\n",
    "    \"SFTWindowBeta\": 0.01,\n",
    "}\n",
    "\n",
    "for segment in range(len(segment_lengths)):\n",
    "    writer_kwargs[\"label\"] = f\"segment_{segment}\"\n",
    "    writer_kwargs[\"duration\"] = segment_lengths[segment]\n",
    "    writer_kwargs[\"sqrtSX\"] = segment_sqrtSX[segment]\n",
    "\n",
    "    if segment > 0:\n",
    "        writer_kwargs[\"tstart\"] += writer_kwargs[\"Tsft\"] + segment_lengths[segment - 1]\n",
    "\n",
    "    writer = pyfstat.Writer(**writer_kwargs)\n",
    "    writer.make_data()\n",
    "\n",
    "    sft_path.append(writer.sftfilepath)\n",
    "\n",
    "sft_path = \";\".join(sft_path)  # Concatenate different files using ;\n",
    "frequency, timestamps, fourier_data = get_sft_as_arrays(sft_path)"
   ]
  },
  {
   "cell_type": "code",
   "execution_count": null,
   "id": "3e761247",
   "metadata": {},
   "outputs": [],
   "source": [
    "utils.plot_real_imag_spectrograms(timestamps[\"H1\"], frequency, fourier_data[\"H1\"]);"
   ]
  },
  {
   "cell_type": "markdown",
   "id": "0214adf7",
   "metadata": {},
   "source": [
    "# Gaps<a name=\"gaps\"></a>\n",
    "\n",
    "Moreover, interferometric detectors are not taking science-quality data throughout the full observing run,\n",
    "meaning a real datastream will contain \"gaps\" during which no data is present.\n",
    "These gaps can be either scheduled downtime periods to conduct maintenance in the detectors or the result of an\n",
    "environmental perturbation driving the detector away from its operating point.\n",
    "\n",
    "Functionality to simulate gaps is implemented via the `timestamps` keyword in `pyfstat.Writer`. \n",
    "For each GPS timestamp, `pyfstat.Writer` will produce an SFT of data starting at such time and spanning\n",
    "`Tsft` seconds. Mind that real data can contain arbitrarily long / short gaps, meaning the time span between\n",
    "the end of an SFT and the beginning of the next one does *not* have to correspond to a multiple of `Tsft`."
   ]
  },
  {
   "cell_type": "code",
   "execution_count": null,
   "id": "401e0579",
   "metadata": {},
   "outputs": [],
   "source": [
    "timestamps = {\"H1\": 1238166018 + 1800 * np.array([0, 2, 4, 6])}\n",
    "\n",
    "# Setup Writer\n",
    "writer_kwargs = {\n",
    "    \"label\": \"single_detector_gaps\",\n",
    "    \"outdir\": \"PyFstat_example_data\",\n",
    "    \"timestamps\": timestamps,\n",
    "    \"F0\": 100.0,  # Central frequency of the band to be generated [Hz]\n",
    "    \"Band\": 1.0,  # Frequency band-width around F0 [Hz]\n",
    "    \"sqrtSX\": 1e-23,  # Single-sided Amplitude Spectral Density of the noise\n",
    "    \"Tsft\": 1800,  # Fourier transform time duration\n",
    "    \"SFTWindowType\": \"tukey\",  # Window function to compute short Fourier transforms\n",
    "    \"SFTWindowBeta\": 0.01,  # Parameter associated to the window function\n",
    "}\n",
    "writer = pyfstat.Writer(**writer_kwargs)\n",
    "\n",
    "# Create SFTs\n",
    "writer.make_data()\n",
    "frequency, timestamps, fourier_data = get_sft_as_arrays(writer.sftfilepath)"
   ]
  },
  {
   "cell_type": "markdown",
   "id": "cf7a7e20",
   "metadata": {},
   "source": [
    "Special attention should be payed to the plotting function on use, as some functions like `pcolormesh`\n",
    "may distort the plotting grid not to be squared. "
   ]
  },
  {
   "cell_type": "code",
   "execution_count": null,
   "id": "eace9357",
   "metadata": {},
   "outputs": [],
   "source": [
    "utils.plot_real_imag_spectrograms_with_gaps(\n",
    "    timestamps[\"H1\"], frequency, fourier_data[\"H1\"], writer_kwargs[\"Tsft\"]\n",
    ");"
   ]
  },
  {
   "cell_type": "markdown",
   "id": "10616125",
   "metadata": {},
   "source": [
    "## Narrow instrumental artifacts<a name=\"lines\"></a>\n",
    "\n",
    "Another characteristic of real data that affects CW searches are \n",
    "[persistent narrow instrumental artifacts](https://www.gw-openscience.org/O3/o3speclines/), \n",
    "also known as *lines*, \n",
    "which appear as strong, monochromatic, features in the detector data. Some of these lines have a known origin\n",
    "(e.g. couplings to the power lines oscillating at 60 Hz, \n",
    "vibrational modes of the mirror suspensions, LEDs blinking) but others are poorly understood.\n",
    "\n",
    "This kind of artifacts can be simulated using `pyfstat.LineWriter`, which allows to specify the frequency \n",
    "`F0`, initial phase `phi` and amplitude `h0` of the narrow instrumental artifact. "
   ]
  },
  {
   "cell_type": "code",
   "execution_count": null,
   "id": "f0dddd13",
   "metadata": {},
   "outputs": [],
   "source": [
    "writer_kwargs = {\n",
    "    \"label\": \"single_detector_spectral_line\",\n",
    "    \"outdir\": \"PyFstat_example_data\",\n",
    "    \"tstart\": 1238166018,  # Starting time of the observation [GPS time]\n",
    "    \"duration\": 5 * 86400,  # Duration [seconds]\n",
    "    \"detectors\": \"H1\",  # Detector to simulate, in this case LIGO Hanford\n",
    "    \"F0\": 100.0,  # Central frequency of the band to be generated [Hz]\n",
    "    \"phi\": 1.3,  # Initial phase of the spectral line\n",
    "    \"Band\": 1.0,  # Frequency band-width around F0 [Hz]                \"h0\": 1e-24,              # Amplitude of the spectral line\n",
    "    \"sqrtSX\": 1e-23,  # Single-sided Amplitude Spectral Density of the noise\n",
    "    \"Tsft\": 1800,  # Fourier transform time duration\n",
    "    \"SFTWindowType\": \"tukey\",\n",
    "    \"SFTWindowBeta\": 0.01,\n",
    "}\n",
    "\n",
    "writer = pyfstat.LineWriter(**writer_kwargs)\n",
    "writer.make_data()\n",
    "\n",
    "frequency, timestamps, fourier_data = get_sft_as_arrays(writer.sftfilepath)"
   ]
  },
  {
   "cell_type": "code",
   "execution_count": null,
   "id": "f347779c",
   "metadata": {},
   "outputs": [],
   "source": [
    "utils.plot_amplitude_phase_spectrograms(timestamps[\"H1\"], frequency, fourier_data[\"H1\"]);"
   ]
  },
  {
   "cell_type": "markdown",
   "id": "1460b1b3",
   "metadata": {},
   "source": [
    "## Multiple detectors<a name=\"multiifo\"></a>"
   ]
  },
  {
   "cell_type": "markdown",
   "id": "10df1455",
   "metadata": {},
   "source": [
    "Finally, the generation of data for multiple detectors is supported by specifying the detector names as a \n",
    "comma-separated string in the `detectors` key word. The list of supported detectors includes, amongst others,\n",
    "the advanced LIGO detectors (`H1` for LIGO Hanford, `L1` for LIGO Livingston) \n",
    "and the advanced Virgo detector `V1`.\n",
    "\n",
    "`sqrtSX` can be specified as a single, common value for all detectors or as a comma-separated string containing\n",
    "one value for each of the specified detectors. Likewise, `timestamps` could be specified as a list of common\n",
    "timestamps for all detectors or as a dictionary of lists, using detector names as keys."
   ]
  },
  {
   "cell_type": "code",
   "execution_count": null,
   "id": "e5de0f9f",
   "metadata": {},
   "outputs": [],
   "source": [
    "writer_kwargs = {\n",
    "    \"label\": \"single_detector_gaussian_noise\",\n",
    "    \"outdir\": \"PyFstat_example_data\",\n",
    "    \"tstart\": 1238166018,  # Starting time of the observation [GPS time]\n",
    "    \"duration\": 5 * 86400,  # Duration [seconds]\n",
    "    \"detectors\": \"H1,L1,V1\",  # Detector to simulate, in this case LIGO Hanford\n",
    "    \"F0\": 100.0,  # Central frequency of the band to be generated [Hz]\n",
    "    \"Band\": 1.0,  # Frequency band-width around F0 [Hz]\n",
    "    \"sqrtSX\": \"1e-23,1e-24,1e-25\",  # Single-sided Amplitude Spectral Density of the noise\n",
    "    \"Tsft\": 1800,  # Fourier transform time duration\n",
    "    \"SFTWindowType\": \"tukey\",  # Window function to compute short Fourier transforms\n",
    "    \"SFTWindowBeta\": 0.01,  # Parameter associated to the window function\n",
    "}\n",
    "writer = pyfstat.Writer(**writer_kwargs)\n",
    "\n",
    "writer.make_data()\n",
    "\n",
    "frequency, timestamps, fourier_data = get_sft_as_arrays(writer.sftfilepath)"
   ]
  },
  {
   "cell_type": "code",
   "execution_count": null,
   "id": "2309d780",
   "metadata": {},
   "outputs": [],
   "source": [
    "for ind, ifo in enumerate(timestamps.keys()):\n",
    "    theoretical_stdev = np.sqrt(0.25 * writer_kwargs[\"Tsft\"]) * float(\n",
    "        writer_kwargs[\"sqrtSX\"].split(\",\")[ind]\n",
    "    )\n",
    "\n",
    "    fig, ax = utils.plot_real_imag_spectrograms(\n",
    "        timestamps[ifo], frequency, fourier_data[ifo]\n",
    "    )\n",
    "    fig.suptitle(ifo)\n",
    "\n",
    "    utils.plot_real_imag_histogram(fourier_data[ifo], theoretical_stdev);"
   ]
  },
  {
   "cell_type": "code",
   "execution_count": null,
   "id": "19c168d1",
   "metadata": {},
   "outputs": [],
   "source": []
  }
 ],
 "metadata": {
  "interpreter": {
   "hash": "598f833d7ffd87ccd52f02f676ab7108c9e37681cbcc5e582981e8e544dc7b95"
  },
  "kernelspec": {
   "display_name": "Python 3 (ipykernel)",
   "language": "python",
   "name": "python3"
  },
  "language_info": {
   "codemirror_mode": {
    "name": "ipython",
    "version": 3
   },
   "file_extension": ".py",
   "mimetype": "text/x-python",
   "name": "python",
   "nbconvert_exporter": "python",
   "pygments_lexer": "ipython3",
   "version": "3.10.5"
  }
 },
 "nbformat": 4,
 "nbformat_minor": 5
}
